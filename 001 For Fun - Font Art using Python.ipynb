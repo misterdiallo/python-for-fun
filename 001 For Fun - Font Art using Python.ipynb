{
 "cells": [
  {
   "cell_type": "code",
   "execution_count": 15,
   "id": "367e7321",
   "metadata": {},
   "outputs": [],
   "source": [
    "#  ______          _                   _     _____       _   _                 \n",
    "# |  ____|        | |       /\\        | |   |  __ \\     | | | |                \n",
    "# | |__ ___  _ __ | |_     /  \\   _ __| |_  | |__) |   _| |_| |__   ___  _ __  \n",
    "# |  __/ _ \\| '_ \\| __|   / /\\ \\ | '__| __| |  ___/ | | | __| '_ \\ / _ \\| '_ \\ \n",
    "# | | | (_) | | | | |_   / ____ \\| |  | |_  | |   | |_| | |_| | | | (_) | | | |\n",
    "# |_|  \\___/|_| |_|\\__| /_/    \\_\\_|   \\__| |_|    \\__, |\\__|_| |_|\\___/|_| |_|\n",
    "#                                                   __/ |                      \n",
    "#                                                  |___/                       \n",
    "#"
   ]
  },
  {
   "cell_type": "code",
   "execution_count": null,
   "id": "76cd7ccb",
   "metadata": {},
   "outputs": [],
   "source": [
    "pip install pyfiglet"
   ]
  },
  {
   "cell_type": "code",
   "execution_count": 5,
   "id": "3accdfb1",
   "metadata": {},
   "outputs": [],
   "source": [
    "import pyfiglet"
   ]
  },
  {
   "cell_type": "code",
   "execution_count": 8,
   "id": "80151533",
   "metadata": {},
   "outputs": [
    {
     "name": "stdout",
     "output_type": "stream",
     "text": [
      "O))))))))                  O))))))))                 \n",
      "O))                        O))                       \n",
      "O))         O))    O) O))) O))      O))  O))O)) O))  \n",
      "O))))))   O))  O))  O))    O))))))  O))  O)) O))  O))\n",
      "O))      O))    O)) O))    O))      O))  O)) O))  O))\n",
      "O))       O))  O))  O))    O))      O))  O)) O))  O))\n",
      "O))         O))    O)))    O))        O))O))O)))  O))\n",
      "                                                     \n",
      "\n"
     ]
    }
   ],
   "source": [
    "font = pyfiglet.figlet_format(\"For Fun\", font=\"coinstak\")\n",
    "print(font)"
   ]
  },
  {
   "cell_type": "code",
   "execution_count": 6,
   "id": "338679c2",
   "metadata": {},
   "outputs": [
    {
     "name": "stdout",
     "output_type": "stream",
     "text": [
      "8888888888               8888888888              \n",
      "888                      888                     \n",
      "888                      888                     \n",
      "8888888 .d88b. 888d888   8888888888  88888888b.  \n",
      "888    d88\"\"88b888P\"     888    888  888888 \"88b \n",
      "888    888  888888       888    888  888888  888 \n",
      "888    Y88..88P888       888    Y88b 888888  888 \n",
      "888     \"Y88P\" 888       888     \"Y88888888  888 \n",
      "                                                 \n",
      "                                                 \n",
      "                                                 \n",
      "\n"
     ]
    }
   ],
   "source": [
    "font = pyfiglet.figlet_format(\"For Fun\", font=\"colossal\")\n",
    "print(font)"
   ]
  },
  {
   "cell_type": "code",
   "execution_count": 16,
   "id": "dc017d76",
   "metadata": {},
   "outputs": [
    {
     "name": "stdout",
     "output_type": "stream",
     "text": [
      " ______           ______           \n",
      "|  ____|         |  ____|          \n",
      "| |__ ___  _ __  | |__ _   _ _ __  \n",
      "|  __/ _ \\| '__| |  __| | | | '_ \\ \n",
      "| | | (_) | |    | |  | |_| | | | |\n",
      "|_|  \\___/|_|    |_|   \\__,_|_| |_|\n",
      "                                   \n",
      "                                   \n",
      "\n"
     ]
    }
   ],
   "source": [
    "font = pyfiglet.figlet_format(\"For Fun\", font=\"big\")\n",
    "print(font)"
   ]
  },
  {
   "cell_type": "code",
   "execution_count": 10,
   "id": "be21cb9e",
   "metadata": {},
   "outputs": [
    {
     "name": "stdout",
     "output_type": "stream",
     "text": [
      "8\"\"\"\"                8\"\"\"\"             \n",
      "8     eeeee eeeee    8     e   e eeeee \n",
      "8eeee 8  88 8   8    8eeee 8   8 8   8 \n",
      "88    8   8 8eee8e   88    8e  8 8e  8 \n",
      "88    8   8 88   8   88    88  8 88  8 \n",
      "88    8eee8 88   8   88    88ee8 88  8 \n",
      "                                       \n",
      "\n"
     ]
    }
   ],
   "source": [
    "font = pyfiglet.figlet_format(\"For Fun\", font=\"computer\")\n",
    "print(font)"
   ]
  },
  {
   "cell_type": "code",
   "execution_count": 18,
   "id": "f1df9320",
   "metadata": {},
   "outputs": [
    {
     "name": "stdout",
     "output_type": "stream",
     "text": [
      " _  _  _  _  _                           \n",
      "(_)(_)(_)(_)(_)                          \n",
      "(_)          _  _  _    _       _  _     \n",
      "(_) _  _  _ (_)(_)(_) _(_)_  _ (_)(_)    \n",
      "(_)(_)(_)(_)         (_) (_)(_)          \n",
      "(_)      (_)         (_) (_)             \n",
      "(_)      (_) _  _  _ (_) (_)             \n",
      "(_)         (_)(_)(_)    (_)             \n",
      "                                         \n",
      "                                         \n",
      " _  _  _  _  _                           \n",
      "(_)(_)(_)(_)(_)                          \n",
      "(_)       _         _    _  _  _  _      \n",
      "(_) _  _ (_)       (_)  (_)(_)(_)(_)_    \n",
      "(_)(_)(_)(_)       (_)  (_)        (_)   \n",
      "(_)      (_)       (_)  (_)        (_)   \n",
      "(_)      (_)_  _  _(_)_ (_)        (_)   \n",
      "(_)        (_)(_)(_) (_)(_)        (_)   \n",
      "                                         \n",
      "                                         \n",
      "\n"
     ]
    }
   ],
   "source": [
    "font = pyfiglet.figlet_format(\"For Fun\", font=\"dotmatrix\")\n",
    "print(font)"
   ]
  },
  {
   "cell_type": "code",
   "execution_count": 19,
   "id": "a822835f",
   "metadata": {},
   "outputs": [
    {
     "name": "stdout",
     "output_type": "stream",
     "text": [
      " _______  _______  _______    _______           _       \n",
      "(  ____ \\(  ___  )(  ____ )  (  ____ \\|\\     /|( (    /|\n",
      "| (    \\/| (   ) || (    )|  | (    \\/| )   ( ||  \\  ( |\n",
      "| (__    | |   | || (____)|  | (__    | |   | ||   \\ | |\n",
      "|  __)   | |   | ||     __)  |  __)   | |   | || (\\ \\) |\n",
      "| (      | |   | || (\\ (     | (      | |   | || | \\   |\n",
      "| )      | (___) || ) \\ \\__  | )      | (___) || )  \\  |\n",
      "|/       (_______)|/   \\__/  |/       (_______)|/    )_)\n",
      "                                                        \n",
      "\n"
     ]
    }
   ],
   "source": [
    "font = pyfiglet.figlet_format(\"For Fun\", font=\"epic\")\n",
    "print(font)"
   ]
  },
  {
   "cell_type": "code",
   "execution_count": 20,
   "id": "0b3800df",
   "metadata": {},
   "outputs": [
    {
     "name": "stdout",
     "output_type": "stream",
     "text": [
      "      ___         ___           ___     \n",
      "     /  /\\       /  /\\         /  /\\    \n",
      "    /  /:/_     /  /::\\       /  /::\\   \n",
      "   /  /:/ /\\   /  /:/\\:\\     /  /:/\\:\\  \n",
      "  /  /:/ /:/  /  /:/  \\:\\   /  /:/~/:/  \n",
      " /__/:/ /:/  /__/:/ \\__\\:\\ /__/:/ /:/___\n",
      " \\  \\:\\/:/   \\  \\:\\ /  /:/ \\  \\:\\/:::::/\n",
      "  \\  \\::/     \\  \\:\\  /:/   \\  \\::/~~~~ \n",
      "   \\  \\:\\      \\  \\:\\/:/     \\  \\:\\     \n",
      "    \\  \\:\\      \\  \\::/       \\  \\:\\    \n",
      "     \\__\\/       \\__\\/         \\__\\/    \n",
      "      ___         ___           ___     \n",
      "     /  /\\       /__/\\         /__/\\    \n",
      "    /  /:/_      \\  \\:\\        \\  \\:\\   \n",
      "   /  /:/ /\\      \\  \\:\\        \\  \\:\\  \n",
      "  /  /:/ /:/  ___  \\  \\:\\   _____\\__\\:\\ \n",
      " /__/:/ /:/  /__/\\  \\__\\:\\ /__/::::::::\\\n",
      " \\  \\:\\/:/   \\  \\:\\ /  /:/ \\  \\:\\~~\\~~\\/\n",
      "  \\  \\::/     \\  \\:\\  /:/   \\  \\:\\  ~~~ \n",
      "   \\  \\:\\      \\  \\:\\/:/     \\  \\:\\     \n",
      "    \\  \\:\\      \\  \\::/       \\  \\:\\    \n",
      "     \\__\\/       \\__\\/         \\__\\/    \n",
      "\n"
     ]
    }
   ],
   "source": [
    "font = pyfiglet.figlet_format(\"For Fun\", font=\"isometric3\")\n",
    "print(font)"
   ]
  },
  {
   "cell_type": "code",
   "execution_count": 21,
   "id": "613f35bc",
   "metadata": {},
   "outputs": [
    {
     "name": "stdout",
     "output_type": "stream",
     "text": [
      " ____                   ____                     \n",
      "/\\  _`\\                /\\  _`\\                   \n",
      "\\ \\ \\L\\_\\___   _ __    \\ \\ \\L\\_\\__  __    ___    \n",
      " \\ \\  _\\/ __`\\/\\`'__\\   \\ \\  _\\/\\ \\/\\ \\ /' _ `\\  \n",
      "  \\ \\ \\/\\ \\L\\ \\ \\ \\/     \\ \\ \\/\\ \\ \\_\\ \\/\\ \\/\\ \\ \n",
      "   \\ \\_\\ \\____/\\ \\_\\      \\ \\_\\ \\ \\____/\\ \\_\\ \\_\\\n",
      "    \\/_/\\/___/  \\/_/       \\/_/  \\/___/  \\/_/\\/_/\n",
      "                                                 \n",
      "                                                 \n",
      "\n"
     ]
    }
   ],
   "source": [
    "font = pyfiglet.figlet_format(\"For Fun\", font=\"larry3d\")\n",
    "print(font)"
   ]
  },
  {
   "cell_type": "code",
   "execution_count": 23,
   "id": "199e97bf",
   "metadata": {},
   "outputs": [
    {
     "name": "stdout",
     "output_type": "stream",
     "text": [
      "   _____         _____       \n",
      "    /  '          /  '       \n",
      " ,-/-,__ __    ,-/-,. . ____ \n",
      "(_/  (_)/ (_  (_/  (_/_/ / <_\n",
      "                             \n",
      "                             \n",
      "\n"
     ]
    }
   ],
   "source": [
    "font = pyfiglet.figlet_format(\"For Fun\", font=\"slscript\")\n",
    "print(font)"
   ]
  },
  {
   "cell_type": "code",
   "execution_count": 24,
   "id": "a99760a2",
   "metadata": {},
   "outputs": [
    {
     "name": "stdout",
     "output_type": "stream",
     "text": [
      " _____            _____            \n",
      "|  ___|__  _ __  |  ___|   _ _ __  \n",
      "| |_ / _ \\| '__| | |_ | | | | '_ \\ \n",
      "|  _| (_) | |    |  _|| |_| | | | |\n",
      "|_|  \\___/|_|    |_|   \\__,_|_| |_|\n",
      "                                   \n",
      "\n"
     ]
    }
   ],
   "source": [
    "font = pyfiglet.figlet_format(\"For Fun\", font=\"standard\")\n",
    "print(font)"
   ]
  },
  {
   "cell_type": "code",
   "execution_count": 25,
   "id": "1649dba3",
   "metadata": {},
   "outputs": [
    {
     "name": "stdout",
     "output_type": "stream",
     "text": [
      "|~ _ ._  |~   ._ \n",
      "|~(_)|   |~|_|| |\n",
      "\n"
     ]
    }
   ],
   "source": [
    "font = pyfiglet.figlet_format(\"For Fun\", font=\"twopoint\")\n",
    "print(font)"
   ]
  },
  {
   "cell_type": "code",
   "execution_count": 26,
   "id": "91d4d1e3",
   "metadata": {},
   "outputs": [
    {
     "name": "stdout",
     "output_type": "stream",
     "text": [
      "                                                                   \n",
      "88888888888                       88888888888                      \n",
      "88                                88                               \n",
      "88                                88                               \n",
      "88aaaaa  ,adPPYba,  8b,dPPYba,    88aaaaa 88       88 8b,dPPYba,   \n",
      "88\"\"\"\"\" a8\"     \"8a 88P'   \"Y8    88\"\"\"\"\" 88       88 88P'   `\"8a  \n",
      "88      8b       d8 88            88      88       88 88       88  \n",
      "88      \"8a,   ,a8\" 88            88      \"8a,   ,a88 88       88  \n",
      "88       `\"YbbdP\"'  88            88       `\"YbbdP'Y8 88       88  \n",
      "                                                                   \n",
      "                                                                   \n",
      "\n"
     ]
    }
   ],
   "source": [
    "font = pyfiglet.figlet_format(\"For Fun\", font=\"univers\")\n",
    "print(font)"
   ]
  },
  {
   "cell_type": "code",
   "execution_count": 27,
   "id": "6d560e83",
   "metadata": {},
   "outputs": [
    {
     "name": "stdout",
     "output_type": "stream",
     "text": [
      " ____|           ____|           \n",
      " |    _ \\   __|  |   |   | __ \\  \n",
      " __| (   | |     __| |   | |   | \n",
      "_|  \\___/ _|    _|  \\__,_|_|  _| \n",
      "                                 \n",
      "\n"
     ]
    }
   ],
   "source": [
    "font = pyfiglet.figlet_format(\"For Fun\", font=\"shadow\")\n",
    "print(font)"
   ]
  },
  {
   "cell_type": "code",
   "execution_count": 28,
   "id": "21d16ac4",
   "metadata": {},
   "outputs": [
    {
     "name": "stdout",
     "output_type": "stream",
     "text": [
      "                                         \n",
      "     ***** **                            \n",
      "  ******  **** *                         \n",
      " **   *  *  ***                          \n",
      "*    *  *    *                           \n",
      "    *  *            ****    ***  ****    \n",
      "   ** **           * ***  *  **** **** * \n",
      "   ** **          *   ****    **   ****  \n",
      "   ** ******     **    **     **         \n",
      "   ** *****      **    **     **         \n",
      "   ** **         **    **     **         \n",
      "   *  **         **    **     **         \n",
      "      *          **    **     **         \n",
      "  *****           ******      ***        \n",
      " *  *****          ****        ***       \n",
      "*    ***                                 \n",
      "*                                        \n",
      " **                                      \n",
      "                                         \n",
      "                                         \n",
      "                                         \n",
      "                                            \n",
      "     ***** **                               \n",
      "  ******  **** *                            \n",
      " **   *  *  ***                             \n",
      "*    *  *    *                              \n",
      "    *  *         **   ****                  \n",
      "   ** **          **    ***  * ***  ****    \n",
      "   ** **          **     ****   **** **** * \n",
      "   ** ******      **      **     **   ****  \n",
      "   ** *****       **      **     **    **   \n",
      "   ** **          **      **     **    **   \n",
      "   *  **          **      **     **    **   \n",
      "      *           **      **     **    **   \n",
      "  *****            ******* **    **    **   \n",
      " *  *****           *****   **   ***   ***  \n",
      "*    ***                          ***   *** \n",
      "*                                           \n",
      " **                                         \n",
      "                                            \n",
      "                                            \n",
      "                                            \n",
      "\n"
     ]
    }
   ],
   "source": [
    "font = pyfiglet.figlet_format(\"For Fun\", font=\"caligraphy\")\n",
    "print(font)"
   ]
  },
  {
   "cell_type": "code",
   "execution_count": 29,
   "id": "6ce44c2b",
   "metadata": {},
   "outputs": [
    {
     "name": "stdout",
     "output_type": "stream",
     "text": [
      "                                                                            \n",
      "     ##### ##                              ##### ##                         \n",
      "  ######  /### /                        ######  /### /                      \n",
      " /#   /  /  ##/                        /#   /  /  ##/                       \n",
      "/    /  /    #                        /    /  /    #                        \n",
      "    /  /                                  /  /                              \n",
      "   ## ##       /###   ###  /###          ## ##    ##   ####    ###  /###    \n",
      "   ## ##      / ###  / ###/ #### /       ## ##     ##    ###  / ###/ #### / \n",
      "   ## ###### /   ###/   ##   ###/        ## ###### ##     ###/   ##   ###/  \n",
      "   ## ##### ##    ##    ##               ## #####  ##      ##    ##    ##   \n",
      "   ## ##    ##    ##    ##               ## ##     ##      ##    ##    ##   \n",
      "   #  ##    ##    ##    ##               #  ##     ##      ##    ##    ##   \n",
      "      #     ##    ##    ##                  #      ##      ##    ##    ##   \n",
      "  /####     ##    ##    ##              /####      ##      /#    ##    ##   \n",
      " /  #####    ######     ###            /  #####     ######/ ##   ###   ###  \n",
      "/    ###      ####       ###          /    ###       #####   ##   ###   ### \n",
      "#                                     #                                     \n",
      " ##                                    ##                                   \n",
      "                                                                            \n",
      "                                                                            \n",
      "\n"
     ]
    }
   ],
   "source": [
    "font = pyfiglet.figlet_format(\"For Fun\", font=\"calgphy2\")\n",
    "print(font)"
   ]
  },
  {
   "cell_type": "code",
   "execution_count": 3,
   "id": "fa1cdefb",
   "metadata": {},
   "outputs": [
    {
     "name": "stdout",
     "output_type": "stream",
     "text": [
      "                                                        \n",
      "                                                        \n",
      "FFFFFFFFFFFFFFFFFFFFFF                                  \n",
      "F::::::::::::::::::::F                                  \n",
      "F::::::::::::::::::::F                                  \n",
      "FF::::::FFFFFFFFF::::F                                  \n",
      "  F:::::F       FFFFFFooooooooooo   rrrrr   rrrrrrrrr   \n",
      "  F:::::F           oo:::::::::::oo r::::rrr:::::::::r  \n",
      "  F::::::FFFFFFFFFFo:::::::::::::::or:::::::::::::::::r \n",
      "  F:::::::::::::::Fo:::::ooooo:::::orr::::::rrrrr::::::r\n",
      "  F:::::::::::::::Fo::::o     o::::o r:::::r     r:::::r\n",
      "  F::::::FFFFFFFFFFo::::o     o::::o r:::::r     rrrrrrr\n",
      "  F:::::F          o::::o     o::::o r:::::r            \n",
      "  F:::::F          o::::o     o::::o r:::::r            \n",
      "FF:::::::FF        o:::::ooooo:::::o r:::::r            \n",
      "F::::::::FF        o:::::::::::::::o r:::::r            \n",
      "F::::::::FF         oo:::::::::::oo  r:::::r            \n",
      "FFFFFFFFFFF           ooooooooooo    rrrrrrr            \n",
      "                                                        \n",
      "                                                        \n",
      "                                                        \n",
      "                                                        \n",
      "                                                        \n",
      "                                                        \n",
      "                                                        \n",
      "                                                        \n",
      "                                                        \n",
      "FFFFFFFFFFFFFFFFFFFFFF                                  \n",
      "F::::::::::::::::::::F                                  \n",
      "F::::::::::::::::::::F                                  \n",
      "FF::::::FFFFFFFFF::::F                                  \n",
      "  F:::::F       FFFFFFuuuuuu    uuuuuunnnn  nnnnnnnn    \n",
      "  F:::::F             u::::u    u::::un:::nn::::::::nn  \n",
      "  F::::::FFFFFFFFFF   u::::u    u::::un::::::::::::::nn \n",
      "  F:::::::::::::::F   u::::u    u::::unn:::::::::::::::n\n",
      "  F:::::::::::::::F   u::::u    u::::u  n:::::nnnn:::::n\n",
      "  F::::::FFFFFFFFFF   u::::u    u::::u  n::::n    n::::n\n",
      "  F:::::F             u::::u    u::::u  n::::n    n::::n\n",
      "  F:::::F             u:::::uuuu:::::u  n::::n    n::::n\n",
      "FF:::::::FF           u:::::::::::::::uun::::n    n::::n\n",
      "F::::::::FF            u:::::::::::::::un::::n    n::::n\n",
      "F::::::::FF             uu::::::::uu:::un::::n    n::::n\n",
      "FFFFFFFFFFF               uuuuuuuu  uuuunnnnnn    nnnnnn\n",
      "                                                        \n",
      "                                                        \n",
      "                                                        \n",
      "                                                        \n",
      "                                                        \n",
      "                                                        \n",
      "                                                        \n",
      "\n"
     ]
    }
   ],
   "source": [
    "font = pyfiglet.figlet_format(\"For Fun\", font=\"doh\")\n",
    "print(font)"
   ]
  },
  {
   "cell_type": "code",
   "execution_count": null,
   "id": "96eab38e",
   "metadata": {},
   "outputs": [],
   "source": []
  }
 ],
 "metadata": {
  "kernelspec": {
   "display_name": "Python 3 (ipykernel)",
   "language": "python",
   "name": "python3"
  },
  "language_info": {
   "codemirror_mode": {
    "name": "ipython",
    "version": 3
   },
   "file_extension": ".py",
   "mimetype": "text/x-python",
   "name": "python",
   "nbconvert_exporter": "python",
   "pygments_lexer": "ipython3",
   "version": "3.9.12"
  }
 },
 "nbformat": 4,
 "nbformat_minor": 5
}
